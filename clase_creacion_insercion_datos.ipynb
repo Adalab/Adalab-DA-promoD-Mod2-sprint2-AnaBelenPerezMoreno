{
 "cells": [
  {
   "cell_type": "code",
   "execution_count": null,
   "metadata": {},
   "outputs": [],
   "source": [
    "import pandas as pd\n",
    "import mysql.connector\n",
    "import numpy as np"
   ]
  },
  {
   "cell_type": "code",
   "execution_count": null,
   "metadata": {},
   "outputs": [],
   "source": [
    "df_canada = pd.read_pickle('datos/df_canada.pkl')  ###abrimos los df con los datos limpios\n",
    "df_argentina = pd.read_pickle('datos/df_argentina.pkl')\n",
    "df_eeuu = pd.read_pickle('datos/df_eeuu.pkl')"
   ]
  },
  {
   "cell_type": "code",
   "execution_count": null,
   "metadata": {},
   "outputs": [],
   "source": [
    "class Cargar:\n",
    "    \n",
    "    def __init__(self, nombre_bbdd, contraseña):\n",
    "        # nuestra clase va a recibir dos parámetros, el nombre de la base de datos y la contraseña con el servidor. \n",
    "        self.nombre_bbdd = nombre_bbdd\n",
    "        self.contraseña = contraseña\n",
    "    \n",
    "    def crear_bbdd(self):  ###funcion para crear la base de datos en caso que no la tengamos.\n",
    "\n",
    "        mydb = mysql.connector.connect(host=\"localhost\",\n",
    "                                       user=\"root\",\n",
    "                                       password=f'{self.contraseña}') \n",
    "        mycursor = mydb.cursor()\n",
    "\n",
    "        try:\n",
    "            mycursor.execute(f\"CREATE DATABASE IF NOT EXISTS {self.nombre_bbdd};\")\n",
    "            \n",
    "        except:\n",
    "            print(\"La Base de Datos ya existe\")\n",
    "    \n",
    "    def crear_insertar_tabla(self, query):\n",
    "        \n",
    "        mydb = mysql.connector.connect(host=\"localhost\",\n",
    "                                       user=\"root\",\n",
    "                                       password=f'{self.contraseña}', \n",
    "                                       database=f\"{self.nombre_bbdd}\") \n",
    "        mycursor = mydb.cursor()\n",
    "        \n",
    "        try:\n",
    "            mycursor.execute(query)\n",
    "            mydb.commit()\n",
    "          \n",
    "        except mysql.connector.Error as err:\n",
    "            print(err)\n",
    "            print(\"Error Code:\", err.errno)\n",
    "            print(\"SQLSTATE\", err.sqlstate)\n",
    "            print(\"Message\", err.msg)\n",
    "    \n",
    "    def check_provincia(self):\n",
    "    \n",
    "        mydb = mysql.connector.connect(user='root',\n",
    "                                      password=f\"{self.contraseña}\",\n",
    "                                      host='127.0.0.1',\n",
    "                                      database=f\"{self.nombre_bbdd}\")\n",
    "        mycursor = mydb.cursor()\n",
    "\n",
    "        # query para extraer los valores únicos de provincias de la tabla paises\n",
    "        query_existe_provincia = f\"\"\"\n",
    "                SELECT DISTINCT nombre_provincia FROM paises\n",
    "                \"\"\"\n",
    "        mycursor.execute(query_existe_provincia)\n",
    "        provincia = mycursor.fetchall()\n",
    "        return provincia\n",
    "\n",
    "    def sacar_idestado(self, provincia):\n",
    "        \n",
    "        mydb = mysql.connector.connect(user='root',\n",
    "                                       password= f'{self.contraseña}',\n",
    "                                       host='127.0.0.1', \n",
    "                                       database=f\"{self.nombre_bbdd}\")\n",
    "        mycursor = mydb.cursor()\n",
    "        #### query para sacar los id de la tabla países, que los utilizaremos para crear la otra tabla\n",
    "        try:\n",
    "            query_sacar_id = f\"SELECT idestado FROM paises WHERE nombre_provincia = '{provincia}'\"\n",
    "            mycursor.execute(query_sacar_id)\n",
    "            id_ = mycursor.fetchall()[0][0]\n",
    "            return id_\n",
    "        \n",
    "        except: \n",
    "            return \"Sorry, no tenemos esa provincia en la BBDD y por lo tanto no te podemos dar su id. \"\n",
    "    "
   ]
  },
  {
   "cell_type": "code",
   "execution_count": null,
   "metadata": {},
   "outputs": [],
   "source": [
    "query_tabla_paises = \"\"\"\n",
    "                    CREATE TABLE `universidades`.`paises` (\n",
    "                        `idestado` INT NOT NULL AUTO_INCREMENT,\n",
    "                        `nombre_pais` VARCHAR(100) NULL,\n",
    "                        `nombre_provincia` VARCHAR(100) NULL,\n",
    "                        `latitud` FLOAT NULL,\n",
    "                        `longitud` FLOAT NULL,\n",
    "                        PRIMARY KEY (`idestado`));\n",
    "\"\"\""
   ]
  },
  {
   "cell_type": "code",
   "execution_count": null,
   "metadata": {},
   "outputs": [],
   "source": [
    "query_tabla_universidades = \"\"\"\n",
    "                            CREATE TABLE `universidades`.`universidades` (\n",
    "                                `iduniversidades` INT NOT NULL AUTO_INCREMENT,\n",
    "                                `nombre_universidad` VARCHAR(100) NULL,\n",
    "                                `pagina_web` VARCHAR(100) NULL,\n",
    "                                `paises_idestado` INT NULL,\n",
    "                                PRIMARY KEY (`iduniversidades`),\n",
    "                                CONSTRAINT `fk_universidades_paises` \n",
    "                                        FOREIGN KEY (`paises_idestado`) \n",
    "                                        REFERENCES `paises` (`idestado`) \n",
    "                                        ON DELETE CASCADE ON UPDATE CASCADE);\n",
    "\"\"\""
   ]
  },
  {
   "cell_type": "code",
   "execution_count": null,
   "metadata": {},
   "outputs": [],
   "source": [
    "carga = Cargar('universidades', 'AlumnaAdalab')"
   ]
  },
  {
   "cell_type": "code",
   "execution_count": null,
   "metadata": {},
   "outputs": [],
   "source": [
    "# tabla paises\n",
    "\n",
    "def tabla_paises(df):\n",
    "    for indice, fila in df.iterrows():\n",
    "        \n",
    "        # creamos la query que nos inserta datos en la tabla paises\n",
    "        query_paises = f\"\"\"\n",
    "                    INSERT INTO paises (nombre_pais, nombre_provincia, latitud, longitud) \n",
    "                    VALUES ( \"{fila['country']}\", \"{fila['provincia']}\", \"{fila['latitud']}\", \"{fila['longitud']}\");\n",
    "                    \"\"\"\n",
    "        # llamamos a la funcion check_provincia para saber que provincias tenemos en la BBDD\n",
    "        provincias = carga.check_provincia()\n",
    "        \n",
    "        if len(provincias) == 0 or fila[\"provincia\"] not in provincias[0]: \n",
    "\n",
    "            carga.crear_insertar_tabla(query_paises)\n",
    "\n",
    "        else:\n",
    "            print(f\"{fila['provincia']} ya esta en nuestra BBDD\") "
   ]
  },
  {
   "cell_type": "code",
   "execution_count": null,
   "metadata": {},
   "outputs": [],
   "source": [
    "tabla_paises(df_argentina)"
   ]
  },
  {
   "cell_type": "code",
   "execution_count": null,
   "metadata": {},
   "outputs": [],
   "source": [
    "tabla_paises(df_canada)"
   ]
  },
  {
   "cell_type": "code",
   "execution_count": null,
   "metadata": {},
   "outputs": [],
   "source": [
    "tabla_paises(df_eeuu)"
   ]
  },
  {
   "cell_type": "code",
   "execution_count": null,
   "metadata": {},
   "outputs": [],
   "source": [
    "# tabla universidades\n",
    "def tabla_universidades(df): \n",
    "\n",
    "    for indice, fila in df.iterrows():\n",
    "\n",
    "        id_pais = carga.sacar_idestado(fila['provincia'])  \n",
    "        # creamos la query que nos inserta los datos en la tabla universidades\n",
    "        query_universidades = f\"\"\"\n",
    "                    INSERT INTO universidades (nombre_universidad, pagina_web, paises_idestado) \n",
    "                    VALUES ( \"{fila['name']}\", \"{fila['web_pages']}\", \"{id_pais}\");\n",
    "                    \"\"\"\n",
    "        \n",
    "        carga.crear_insertar_tabla(query_universidades)"
   ]
  },
  {
   "cell_type": "code",
   "execution_count": null,
   "metadata": {},
   "outputs": [],
   "source": [
    "tabla_universidades(df_canada)"
   ]
  },
  {
   "cell_type": "code",
   "execution_count": null,
   "metadata": {},
   "outputs": [],
   "source": [
    "tabla_universidades(df_argentina)"
   ]
  },
  {
   "cell_type": "code",
   "execution_count": null,
   "metadata": {},
   "outputs": [],
   "source": [
    "tabla_universidades(df_eeuu)"
   ]
  }
 ],
 "metadata": {
  "kernelspec": {
   "display_name": "adalabenv",
   "language": "python",
   "name": "python3"
  },
  "language_info": {
   "codemirror_mode": {
    "name": "ipython",
    "version": 3
   },
   "file_extension": ".py",
   "mimetype": "text/x-python",
   "name": "python",
   "nbconvert_exporter": "python",
   "pygments_lexer": "ipython3",
   "version": "3.10.9"
  },
  "orig_nbformat": 4
 },
 "nbformat": 4,
 "nbformat_minor": 2
}
